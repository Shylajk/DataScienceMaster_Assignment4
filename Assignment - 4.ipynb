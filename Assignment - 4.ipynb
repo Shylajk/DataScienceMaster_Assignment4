{
 "cells": [
  {
   "cell_type": "markdown",
   "metadata": {},
   "source": [
    "<H3> Question 1.1 </H3> \n",
    "\n",
    "<H5>Write a Python Program(with class concepts) to find the area of the triangle \n",
    "using the below  #formula. area = (s*(s-a)*(s-b)*(s-c)) ** 0.5\n",
    "Function to take the length of the sides of triangle from user should be defined in the parent\n",
    "class and function to calculate the area should be defined in subclass.</H5>"
   ]
  },
  {
   "cell_type": "code",
   "execution_count": 42,
   "metadata": {},
   "outputs": [],
   "source": [
    "class Triangle:\n",
    "    def __init__(self):\n",
    "        a = self.a\n",
    "        b = self.b\n",
    "        c =self.c\n",
    "       \n",
    "    def inputSides(self):\n",
    "        self.a = float(input(\"Enter side 1: \"))\n",
    "        self.b = float(input(\"Enter side 2: \"))\n",
    "        self.c = float(input(\"Enter side 3: \"))     \n",
    "\n",
    "class CalculateArea(Triangle):\n",
    "    def __init__(self):\n",
    "        Triangle.inputSides(self)\n",
    "        Triangle.__init__(self)\n",
    "\n",
    "    def findArea(self):\n",
    "        a = self.a\n",
    "        b = self.b\n",
    "        c =self.c\n",
    "        s = (a+b+c) / 2\n",
    "        area = (s*(s-a)*(s-b)*(s-c)) ** 0.5\n",
    "        print('The area of the triangle is', area)"
   ]
  },
  {
   "cell_type": "code",
   "execution_count": 43,
   "metadata": {},
   "outputs": [
    {
     "name": "stdout",
     "output_type": "stream",
     "text": [
      "Enter side 1: 12\n",
      "Enter side 2: 13\n",
      "Enter side 3: 14\n",
      "The area of the triangle is 72.30793524918272\n"
     ]
    }
   ],
   "source": [
    "TriangleArea1 = CalculateArea()\n",
    "TriangleArea1.findArea()"
   ]
  },
  {
   "cell_type": "markdown",
   "metadata": {},
   "source": [
    "<H3> Question 1.2 </H3>\n",
    "<H5>Write a function filter_long_words() that takes a list of words and an integer n and returns\n",
    "the list of words that are longer than n.</H5>\n"
   ]
  },
  {
   "cell_type": "code",
   "execution_count": 26,
   "metadata": {},
   "outputs": [
    {
     "name": "stdout",
     "output_type": "stream",
     "text": [
      "The words that are longer than the integer are : ['aravind', 'niyati', 'krishna']\n"
     ]
    }
   ],
   "source": [
    "def filter_long_words(lst,n):\n",
    "    res=[]\n",
    "    for i in range(len(lst)):\n",
    "        if len(lst[i]) > n:\n",
    "            res.append(lst[i])\n",
    "    return res\n",
    "\n",
    "input_lst =['shyla','aravind','niyati','krishna']\n",
    "n = 5\n",
    "print(\"The words that are longer than the integer are :\", filter_long_words(input_lst,n))\n"
   ]
  },
  {
   "cell_type": "markdown",
   "metadata": {},
   "source": [
    "<H3>Question 2.1</H3> \n",
    "\n",
    "<H5>Write a Python program using function concept that maps list of words into a list of integers\n",
    "representing the lengths of the corresponding words.\n",
    "Hint: ​If a list [ ab,cde,erty] is passed on to the python function output should come as [2,3,4]\n",
    "Here 2,3 and 4 are the lengths of the words in the list.</H5>"
   ]
  },
  {
   "cell_type": "code",
   "execution_count": 28,
   "metadata": {},
   "outputs": [
    {
     "name": "stdout",
     "output_type": "stream",
     "text": [
      "[5, 7, 6, 7]\n"
     ]
    }
   ],
   "source": [
    "def lenghtofwordsC(word_lst):\n",
    "    return len(word_lst)\n",
    "\n",
    "print(list(map(lenghtofwordsC,['shyla','aravind','niyati','krishna'])))"
   ]
  },
  {
   "cell_type": "markdown",
   "metadata": {},
   "source": [
    "<H3>Question 2.2</H3>\n",
    "\n",
    "<H5>Write a Python function which takes a character (i.e. a string of length 1) and returns True if\n",
    "it is a vowel, False otherwise.</H5>"
   ]
  },
  {
   "cell_type": "code",
   "execution_count": 3,
   "metadata": {},
   "outputs": [
    {
     "name": "stdout",
     "output_type": "stream",
     "text": [
      "Enter the character to check if it is vowel f\n",
      "The character is vowel  :  False\n"
     ]
    }
   ],
   "source": [
    "def checkifvowel(c):\n",
    "    vowel = 'aeiou'\n",
    "    if c in vowel:\n",
    "        return True\n",
    "    else:\n",
    "        return False\n",
    "\n",
    "c = input(\"Enter the character to check if it is vowel \")\n",
    "print(\"The character is vowel  : \" , checkifvowel(c))"
   ]
  },
  {
   "cell_type": "code",
   "execution_count": null,
   "metadata": {},
   "outputs": [],
   "source": []
  },
  {
   "cell_type": "code",
   "execution_count": null,
   "metadata": {},
   "outputs": [],
   "source": []
  }
 ],
 "metadata": {
  "kernelspec": {
   "display_name": "Python 3",
   "language": "python",
   "name": "python3"
  },
  "language_info": {
   "codemirror_mode": {
    "name": "ipython",
    "version": 3
   },
   "file_extension": ".py",
   "mimetype": "text/x-python",
   "name": "python",
   "nbconvert_exporter": "python",
   "pygments_lexer": "ipython3",
   "version": "3.6.5"
  }
 },
 "nbformat": 4,
 "nbformat_minor": 2
}
